{
 "cells": [
  {
   "cell_type": "code",
   "execution_count": 1,
   "metadata": {},
   "outputs": [],
   "source": [
    "import ecdsa\n",
    "import hashlib\n",
    "import random\n",
    "from gmpy2 import invert"
   ]
  },
  {
   "cell_type": "code",
   "execution_count": 2,
   "metadata": {},
   "outputs": [],
   "source": [
    "G = ecdsa.SECP256k1.generator\n",
    "N = ecdsa.SECP256k1.order\n",
    "\n",
    "d = 2078"
   ]
  },
  {
   "cell_type": "markdown",
   "metadata": {},
   "source": [
    "P1"
   ]
  },
  {
   "cell_type": "code",
   "execution_count": 3,
   "metadata": {},
   "outputs": [
    {
     "name": "stdout",
     "output_type": "stream",
     "text": [
      "G_x = 103388573995635080359749164254216598308788835304023601477803095234286494993683\n",
      "G_y = 37057141145242123013015316630864329550140216928701153669873286428255828810018\n"
     ]
    }
   ],
   "source": [
    "p1_ans = 4 * G\n",
    "print(\"G_x = {}\\nG_y = {}\".format(p1_ans.x(), p1_ans.y()))"
   ]
  },
  {
   "cell_type": "markdown",
   "metadata": {},
   "source": [
    "P2"
   ]
  },
  {
   "cell_type": "code",
   "execution_count": 4,
   "metadata": {},
   "outputs": [
    {
     "name": "stdout",
     "output_type": "stream",
     "text": [
      "G_x = 21505829891763648114329055987619236494102133314575206970830385799158076338148\n",
      "G_y = 98003708678762621233683240503080860129026887322874138805529884920309963580118\n"
     ]
    }
   ],
   "source": [
    "p2_ans = 5 * G\n",
    "print(\"G_x = {}\\nG_y = {}\".format(p2_ans.x(), p2_ans.y()))"
   ]
  },
  {
   "cell_type": "markdown",
   "metadata": {},
   "source": [
    "P3"
   ]
  },
  {
   "cell_type": "code",
   "execution_count": 5,
   "metadata": {},
   "outputs": [
    {
     "name": "stdout",
     "output_type": "stream",
     "text": [
      "G_x = 10558952611465060619920771719691208775840427052079655958727364975197137826262\n",
      "G_Y = 99595754422124230268181950840807047095125375794236015674139284580993174427739\n"
     ]
    }
   ],
   "source": [
    "Q = d * G\n",
    "print(\"G_x = {}\\nG_Y = {}\".format(Q.x(), Q.y()))"
   ]
  },
  {
   "cell_type": "markdown",
   "metadata": {},
   "source": [
    "P4"
   ]
  },
  {
   "cell_type": "code",
   "execution_count": 6,
   "metadata": {},
   "outputs": [
    {
     "name": "stdout",
     "output_type": "stream",
     "text": [
      "bin = 100000011110\n",
      "double = 11, add = 4\n"
     ]
    }
   ],
   "source": [
    "def count_bits(integer):\n",
    "    double = 0\n",
    "    add = 0\n",
    "    binary_representation = bin(integer)[2:]\n",
    "    print(\"bin = {}\".format(binary_representation))\n",
    "    for bit in binary_representation[1:]:\n",
    "        double += 1\n",
    "        if (bit == '1'):\n",
    "            add += 1\n",
    "    return double, add\n",
    "double, add = count_bits(d)\n",
    "print(\"double = {}, add = {}\".format(double, add))"
   ]
  },
  {
   "cell_type": "markdown",
   "metadata": {},
   "source": [
    "double = number of bits (excluding MSB) = 12 - 1 = 11 \n",
    "\n",
    "add = number of 1 (excluding MSB) = 4"
   ]
  },
  {
   "cell_type": "markdown",
   "metadata": {},
   "source": [
    "P5"
   ]
  },
  {
   "cell_type": "markdown",
   "metadata": {},
   "source": [
    "<img src=\"P5.jpg\">"
   ]
  },
  {
   "cell_type": "markdown",
   "metadata": {},
   "source": [
    "P6"
   ]
  },
  {
   "cell_type": "code",
   "execution_count": 7,
   "metadata": {},
   "outputs": [
    {
     "name": "stdout",
     "output_type": "stream",
     "text": [
      "e = 5b2cb9133cc060148fd6bfab62f99a64315cb5703861cfc60ac948abbc1c6113\n",
      "z = 74383855228947319945519443418357011162203109683400000045254379739972964099071\n",
      "r = 39710263892406800111444519683998442045046138002057654872305930518776158620144\n",
      "s = 70050608243560364735463861712822257272682854828353185822780992683343375419177\n"
     ]
    }
   ],
   "source": [
    "# this is the bitcoin transaction I used:\n",
    "# https://www.blockchain.com/explorer/transactions/btc/a473c52545422e78f5ac9b46d97766d85a880cfa8acbc662ffd89a9bcae2a3ff\n",
    "\n",
    "message = \"a473c52545422e78f5ac9b46d97766d85a880cfa8acbc662ffd89a9bcae2a3ff\"\n",
    "# 1. Calculate e = HASH(m)\n",
    "hash_func = hashlib.sha256()\n",
    "hash_func.update(message.encode('utf-8'))\n",
    "e = hash_func.hexdigest()\n",
    "print(\"e = {}\".format(e))\n",
    "\n",
    "# 2. Let z be the Ln leftmost bits of e, where Ln is the bit length of the group order n.\n",
    "Ln = N.bit_length()\n",
    "Ln = min(Ln, len(message))\n",
    "z = message[:Ln]\n",
    "z = int(z, 16)\n",
    "print(\"z = {}\".format(z))\n",
    "\n",
    "r = 0\n",
    "s = 0\n",
    "dA = 2078\n",
    "while True:\n",
    "    # 3. select a random integer k from [1, n-1]\n",
    "    k = random.randint(1, N-1)\n",
    "    # 4. Calculate the curve point (x1, y1) = k * G\n",
    "    x1 = (k * G).x()\n",
    "    y1 = (k * G).y()\n",
    "    # 5. Calculate r = x1 mod n. If r = 0, go back to while loop\n",
    "    r = x1 % N\n",
    "    # 6. Calculate s = k^-1 (z + rdA) mod n. If s = 0, go back to while loop\n",
    "    s = (invert(k, N) * (z + r * dA)) % N\n",
    "    # 7. The signature is the pair (r, s)\n",
    "    if r != 0 and s != 0:\n",
    "        break\n",
    "print(\"r = {}\".format(r))\n",
    "print(\"s = {}\".format(s))"
   ]
  },
  {
   "cell_type": "markdown",
   "metadata": {},
   "source": [
    "P7"
   ]
  },
  {
   "cell_type": "code",
   "execution_count": 10,
   "metadata": {},
   "outputs": [
    {
     "name": "stdout",
     "output_type": "stream",
     "text": [
      "w = 95831231978288292503064569628370595003321793744457584320986667974298541646149\n",
      "u1 = 18361929976077092449926493634644536486770132383154790200673392457774188298377\n",
      "u2 = 44955536192030403449219372429176433705707763048168285286701526130643719807689\n",
      "x1 = 39710263892406800111444519683998442045046138002057654872305930518776158620144\n",
      "y1 = 68550685520807823803293341296170381561995055765667558701064178886341073333311\n",
      "Signature is valid\n"
     ]
    }
   ],
   "source": [
    "# public key QA = dA * G\n",
    "QA = dA * G\n",
    "\n",
    "# 1. Verify that r and s are integers in [1, n-1]. If not, the signature is invalid\n",
    "assert r >= 1 and r <= N-1 and s >= 1 and s <= N-1, \"signature is invalid\"\n",
    "# 2. Calculate e = HASH(m), where HASH is the same function used in the signature generation\n",
    "# 3. Let z be the Ln leftmost bits of e.\n",
    "# 4. Calculate w = s^-1 mod n.\n",
    "w = (invert(s, N)) % N\n",
    "print(\"w = {}\".format(w))\n",
    "# 5. Calculate u1 = zw mod n and u2 = rw mod n.\n",
    "u1 = (z * w) % N\n",
    "u2 = (r * w) % N\n",
    "print(\"u1 = {}\".format(u1))\n",
    "print(\"u2 = {}\".format(u2))\n",
    "# 6. Calculate the curve point (x1, y1) = u1 * G + u2 * QA.\n",
    "x1 = (u1 * G + u2 * QA).x()\n",
    "y1 = (u1 * G + u2 * QA).y()\n",
    "print(\"x1 = {}\".format(x1))\n",
    "print(\"y1 = {}\".format(y1))\n",
    "# 7. The signature is valid if r = x1 (mod n), invalid otherwise.\n",
    "if ((r % N) == (x1 % N)):\n",
    "    print(\"Signature is valid\")\n",
    "else:\n",
    "    print(\"Signature is invalid\")"
   ]
  },
  {
   "cell_type": "markdown",
   "metadata": {},
   "source": [
    "P8"
   ]
  },
  {
   "cell_type": "code",
   "execution_count": 11,
   "metadata": {},
   "outputs": [
    {
     "name": "stdout",
     "output_type": "stream",
     "text": [
      "Poly(1024*x**2 - 3062*x + 2048, x, modulus=10007)\n"
     ]
    }
   ],
   "source": [
    "from sympy import symbols, Poly, GF\n",
    "\n",
    "x = symbols('x')\n",
    "\n",
    "c_lagrange = ((10 * (x - 2) * (x - 3) * invert(1 - 2, 10007) * invert(1 - 3, 10007)) + (20 * (x - 1) * (x - 3) * invert(2 - 1, 10007) * invert(2 - 3, 10007)) +\n",
    "              (2078 * (x - 1) * (x - 2) * invert(3 - 1, 10007) * invert(3 - 2, 10007)))\n",
    "\n",
    "p = Poly(c_lagrange, domain=GF(10007))\n",
    "print(p)"
   ]
  },
  {
   "cell_type": "markdown",
   "metadata": {},
   "source": [
    "<img src = \"P8.jpg\">"
   ]
  }
 ],
 "metadata": {
  "kernelspec": {
   "display_name": "Python 3",
   "language": "python",
   "name": "python3"
  },
  "language_info": {
   "codemirror_mode": {
    "name": "ipython",
    "version": 3
   },
   "file_extension": ".py",
   "mimetype": "text/x-python",
   "name": "python",
   "nbconvert_exporter": "python",
   "pygments_lexer": "ipython3",
   "version": "3.10.11"
  }
 },
 "nbformat": 4,
 "nbformat_minor": 2
}
